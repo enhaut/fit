{
 "cells": [
  {
   "cell_type": "markdown",
   "metadata": {},
   "source": [
    "# Test prerekvizitních znalostí Pythonu\n",
    "Na tomto testu byste si měli ověřit, zda chápete základní struktury a konstrukce v jazyku Python. Hodnotit se bude nejen funkčnost, ale i časová složitost kódu a míra využití vhodných konstrukcí jazyka.\n",
    "\n",
    "_Odhadovaná doba řešení:_ 10 minut\n",
    "\n",
    "_Odevzdávání:_ tento soubor `test.ipynb` odevzdejte do IS VUT do úterý 20. září 2022\n",
    "\n",
    "_Dotazy:_ fórum ve E-learningu, hodnotit bude V. Mrázek"
   ]
  },
  {
   "cell_type": "code",
   "execution_count": 1,
   "metadata": {
    "tags": []
   },
   "outputs": [
    {
     "name": "stdout",
     "output_type": "stream",
     "text": [
      "3.10.6 (main, Aug 11 2022, 13:36:31) [Clang 13.1.6 (clang-1316.0.21.2.5)]\n"
     ]
    }
   ],
   "source": [
    "# test verze jazyka Python\n",
    "import sys\n",
    "print(sys.version)\n",
    "# mela by byt Python 3.9 nebo vyssi"
   ]
  },
  {
   "cell_type": "code",
   "execution_count": 2,
   "metadata": {
    "tags": []
   },
   "outputs": [
    {
     "name": "stdout",
     "output_type": "stream",
     "text": [
      "xdobro23\n"
     ]
    }
   ],
   "source": [
    "print(\"xdobro23\")"
   ]
  },
  {
   "cell_type": "markdown",
   "metadata": {},
   "source": [
    "## Část 1: funkce, generátorová notace\n",
    "\n",
    "- Napište funci `f1` s proměnným počtem __pozičně závislých__ argumentů, která vypíše všechny argumenty ve formátu\n",
    "```\n",
    "arg1=hodnota1\n",
    "arg2=hodnota2\n",
    "arg3=hodnota3\n",
    "arg4=hodnota4\n",
    "```"
   ]
  },
  {
   "cell_type": "code",
   "execution_count": 4,
   "metadata": {
    "tags": []
   },
   "outputs": [
    {
     "name": "stdout",
     "output_type": "stream",
     "text": [
      "arg1=hodnota1\n",
      "arg2=hodnota2\n",
      "arg3=hodnota3\n",
      "arg4=hodnota4\n"
     ]
    }
   ],
   "source": [
    "# Funkce s proměnným počtem argumentů\n",
    "def f1(*args):\n",
    "        for i, arg in enumerate(args):\n",
    "                print(f\"arg{i + 1}={arg}\")\n",
    "f1(\"hodnota1\", \"hodnota2\", \"hodnota3\", \"hodnota4\")"
   ]
  },
  {
   "cell_type": "markdown",
   "metadata": {},
   "source": [
    "Vytvořte slovník (`dictionary`) v proměnné `dict_values` , který bude obsahovat položky \"param1\" s hodnotou \"value1\", \"param2\" s hodnotou \"value2\" až po \"param30\" s hodnotou \"value30\". Zřejmě k tomu využijete výčet `range`, formátovací řetězce a měli byste použít zápis na jeden řádek pomocí tzv _generátorové notace_. Vynechte ale položku 7 (využijte podmínky v generátorové notaci)"
   ]
  },
  {
   "cell_type": "code",
   "execution_count": 7,
   "metadata": {},
   "outputs": [
    {
     "name": "stdout",
     "output_type": "stream",
     "text": [
      "{'param1': 'value1', 'param2': 'value2', 'param3': 'value3', 'param4': 'value4', 'param5': 'value5', 'param6': 'value6', 'param8': 'value8', 'param9': 'value9', 'param10': 'value10', 'param11': 'value11', 'param12': 'value12', 'param13': 'value13', 'param14': 'value14', 'param15': 'value15', 'param16': 'value16', 'param17': 'value17', 'param18': 'value18', 'param19': 'value19', 'param20': 'value20', 'param21': 'value21', 'param22': 'value22', 'param23': 'value23', 'param24': 'value24', 'param25': 'value25', 'param26': 'value26', 'param27': 'value27', 'param28': 'value28', 'param29': 'value29', 'param30': 'value30'}\n"
     ]
    }
   ],
   "source": [
    "# pozn: stačí dát proměnnou dict_values samostatně na poslední řádek, Jupyter vypisuje výsledek posledního řádku\n",
    "\n",
    "dict_values = {f\"param{i}\": f\"value{i}\" for i in range(1, 31) if i != 7}\n",
    "print(dict_values)"
   ]
  },
  {
   "cell_type": "markdown",
   "metadata": {},
   "source": [
    "## Část 2: Výjimky\n",
    "\n",
    "Vytvořte funkci `f2`, která má dva argumenty `p` a `s`. Argument `s` je ve výchozím stavu nastavený na \"A\". Výsledkem funkce je řetězec složený z p-opakování argumentu `s`. V případě, že `p` je záporné, funkce vyvolá výjimku s popisem \"Hodnota p nemuze byt mensi nez 0, bylo zadano -5\" (podle toho, jaké číslo bylo zadáno). Funkce sama o sobě nikdy nesmí nic vypisovat!"
   ]
  },
  {
   "cell_type": "code",
   "execution_count": 11,
   "metadata": {
    "tags": []
   },
   "outputs": [
    {
     "data": {
      "text/plain": "'AAAAAAAAAAAAAAAAAAAAAAAAAAAAAAAAAAAAAAAA'"
     },
     "execution_count": 11,
     "metadata": {},
     "output_type": "execute_result"
    }
   ],
   "source": [
    "#TODO: vytvorte funkci f2\n",
    "def f2(p, s = \"A\"):\n",
    "        if p < 0:\n",
    "                raise ValueError(f\"Hodnota p nemuze byt mensi nez 0, bylo zadano {p}\")\n",
    "        return s * p\n",
    "f2(40)"
   ]
  },
  {
   "cell_type": "markdown",
   "metadata": {},
   "source": [
    "Test vyvolání vyjímky - zkusíme nastavit zápornou hodnotu."
   ]
  },
  {
   "cell_type": "code",
   "execution_count": 12,
   "metadata": {},
   "outputs": [
    {
     "ename": "ValueError",
     "evalue": "Hodnota p nemuze byt mensi nez 0, bylo zadano -40",
     "output_type": "error",
     "traceback": [
      "\u001B[0;31m---------------------------------------------------------------------------\u001B[0m",
      "\u001B[0;31mValueError\u001B[0m                                Traceback (most recent call last)",
      "Input \u001B[0;32mIn [12]\u001B[0m, in \u001B[0;36m<cell line: 2>\u001B[0;34m()\u001B[0m\n\u001B[1;32m      1\u001B[0m \u001B[38;5;66;03m# neměnit!\u001B[39;00m\n\u001B[0;32m----> 2\u001B[0m \u001B[43mf2\u001B[49m\u001B[43m(\u001B[49m\u001B[43mp\u001B[49m\u001B[38;5;241;43m=\u001B[39;49m\u001B[38;5;241;43m-\u001B[39;49m\u001B[38;5;241;43m40\u001B[39;49m\u001B[43m,\u001B[49m\u001B[43m \u001B[49m\u001B[43ms\u001B[49m\u001B[38;5;241;43m=\u001B[39;49m\u001B[38;5;124;43m\"\u001B[39;49m\u001B[38;5;124;43mAB\u001B[39;49m\u001B[38;5;124;43m\"\u001B[39;49m\u001B[43m)\u001B[49m\n",
      "Input \u001B[0;32mIn [11]\u001B[0m, in \u001B[0;36mf2\u001B[0;34m(p, s)\u001B[0m\n\u001B[1;32m      2\u001B[0m \u001B[38;5;28;01mdef\u001B[39;00m \u001B[38;5;21mf2\u001B[39m(p, s \u001B[38;5;241m=\u001B[39m \u001B[38;5;124m\"\u001B[39m\u001B[38;5;124mA\u001B[39m\u001B[38;5;124m\"\u001B[39m):\n\u001B[1;32m      3\u001B[0m         \u001B[38;5;28;01mif\u001B[39;00m p \u001B[38;5;241m<\u001B[39m \u001B[38;5;241m0\u001B[39m:\n\u001B[0;32m----> 4\u001B[0m                 \u001B[38;5;28;01mraise\u001B[39;00m \u001B[38;5;167;01mValueError\u001B[39;00m(\u001B[38;5;124mf\u001B[39m\u001B[38;5;124m\"\u001B[39m\u001B[38;5;124mHodnota p nemuze byt mensi nez 0, bylo zadano \u001B[39m\u001B[38;5;132;01m{\u001B[39;00mp\u001B[38;5;132;01m}\u001B[39;00m\u001B[38;5;124m\"\u001B[39m)\n\u001B[1;32m      5\u001B[0m         \u001B[38;5;28;01mreturn\u001B[39;00m s \u001B[38;5;241m*\u001B[39m p\n",
      "\u001B[0;31mValueError\u001B[0m: Hodnota p nemuze byt mensi nez 0, bylo zadano -40"
     ]
    }
   ],
   "source": [
    "# neměnit!\n",
    "f2(p=-40, s=\"AB\")"
   ]
  },
  {
   "cell_type": "markdown",
   "metadata": {},
   "source": [
    "Nyní je vaším úkolem napsat ošetření vyjímky, které při nastavení záporné hodnoty argumenty `p` vypíše chybovou hlášku, kterou převezme z vyjímky (použijte konstrukci `ValueError as e` a vypište i proměnnou `e`)"
   ]
  },
  {
   "cell_type": "code",
   "execution_count": 13,
   "metadata": {
    "tags": []
   },
   "outputs": [
    {
     "name": "stdout",
     "output_type": "stream",
     "text": [
      "Hodnota p nemuze byt mensi nez 0, bylo zadano -4\n"
     ]
    }
   ],
   "source": [
    "try:\n",
    "        f2(s=\"ABC\", p=-4)\n",
    "except ValueError as e:\n",
    "        print(e)"
   ]
  },
  {
   "cell_type": "markdown",
   "metadata": {},
   "source": [
    "## Část 3: Smyčky, pole atd.\n",
    "\n",
    "Vytvoříme data, se kterými budeme pracovat - bude se jednat o n-tice:\n",
    "`město, typ_hodnoty, teplota`\n",
    "\n",
    "Chování tohoto kódu byste měli rozumět!"
   ]
  },
  {
   "cell_type": "code",
   "execution_count": 14,
   "metadata": {},
   "outputs": [
    {
     "data": {
      "text/plain": "[('Praha', 'T1', 15.577071938315349),\n ('Praha', 'T2', -8.999569791093322),\n ('Praha', 'T3', 1.0011727347647703),\n ('Brno', 'T1', -1.071570474047089),\n ('Brno', 'T2', 19.458848566560498),\n ('Brno', 'T3', 17.06797949691645),\n ('Ostrava', 'T1', 25.687182708193816),\n ('Ostrava', 'T2', -6.522446694823354),\n ('Ostrava', 'T3', 6.876872787410818)]"
     },
     "execution_count": 14,
     "metadata": {},
     "output_type": "execute_result"
    }
   ],
   "source": [
    "# neměnit!\n",
    "import itertools\n",
    "import random\n",
    "random.seed(42)  # pro deterministické chování\n",
    "data = [(m, h, random.random() * 40 - 10)\n",
    "        for m, h in itertools.product([\"Praha\", \"Brno\", \"Ostrava\"], [\"T1\", \"T2\", \"T3\"])]\n",
    "data\n"
   ]
  },
  {
   "cell_type": "markdown",
   "metadata": {},
   "source": [
    "Projdete data s tím, že vypíšete:\n",
    "```\n",
    "1. Praha T1 = 15.58\n",
    "2. Praha T2 = -9.00\n",
    "3. Praha T3 = 1.00\n",
    "4. Brno T1 = -1.07\n",
    "5. Brno T2 = 19.46\n",
    "6. Brno T3 = 17.07\n",
    "7. Ostrava T1 = 25.69\n",
    "8. Ostrava T2 = -6.52\n",
    "9. Ostrava T3 = 6.88\n",
    "```\n",
    "\n",
    "Použijte jeden cyklus s tím, že budete plnit proměnné `rid`, `mesto`, `typ` a `hodnota` - použijte funkce `enumerate` a rozbalení  (_upacking_). Hodnotu vypisujte na 2 desetinná místa"
   ]
  },
  {
   "cell_type": "code",
   "execution_count": 18,
   "metadata": {
    "tags": []
   },
   "outputs": [
    {
     "name": "stdout",
     "output_type": "stream",
     "text": [
      "1. Praha T1 = 15.58\n",
      "2. Praha T2 = -9.00\n",
      "3. Praha T3 = 1.00\n",
      "4. Brno T1 = -1.07\n",
      "5. Brno T2 = 19.46\n",
      "6. Brno T3 = 17.07\n",
      "7. Ostrava T1 = 25.69\n",
      "8. Ostrava T2 = -6.52\n",
      "9. Ostrava T3 = 6.88\n"
     ]
    }
   ],
   "source": [
    "for rid, (mesto, typ, hodnota) in enumerate(data):\n",
    "        print(f\"{rid + 1}. {mesto} {typ} = {hodnota:.2f}\")"
   ]
  },
  {
   "cell_type": "markdown",
   "metadata": {},
   "source": [
    "A vypište poslední tři prvky pole (stačí vybrat a využít výchozího tisku)"
   ]
  },
  {
   "cell_type": "code",
   "execution_count": 20,
   "metadata": {
    "tags": []
   },
   "outputs": [
    {
     "name": "stdout",
     "output_type": "stream",
     "text": [
      "[('Ostrava', 'T1', 25.687182708193816), ('Ostrava', 'T2', -6.522446694823354), ('Ostrava', 'T3', 6.876872787410818)]\n"
     ]
    }
   ],
   "source": [
    "print(data[-3:])"
   ]
  },
  {
   "cell_type": "code",
   "execution_count": null,
   "metadata": {},
   "outputs": [],
   "source": [
    "#TODO\n",
    "zpetna_vazba = \"\"\"\n",
    "Osobne by som bol radsej, keby su zadania uloh v anglictine :)\n",
    "\"\"\""
   ]
  },
  {
   "cell_type": "markdown",
   "metadata": {},
   "source": [
    "Pozor, nepřidávejte další buňky a neměňte buňky s popisem na kód."
   ]
  }
 ],
 "metadata": {
  "kernelspec": {
   "display_name": "Python 3.10.4 64-bit",
   "language": "python",
   "name": "python3"
  },
  "language_info": {
   "codemirror_mode": {
    "name": "ipython",
    "version": 3
   },
   "file_extension": ".py",
   "mimetype": "text/x-python",
   "name": "python",
   "nbconvert_exporter": "python",
   "pygments_lexer": "ipython3",
   "version": "3.10.4"
  },
  "vscode": {
   "interpreter": {
    "hash": "e7370f93d1d0cde622a1f8e1c04877d8463912d04d973331ad4851f04de6915a"
   }
  }
 },
 "nbformat": 4,
 "nbformat_minor": 2
}