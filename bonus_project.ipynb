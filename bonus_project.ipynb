{
 "cells": [
  {
   "cell_type": "markdown",
   "metadata": {},
   "source": [
    "# Test prerekvizitních znalostí Pythonu\n",
    "Na tomto testu byste si měli ověřit, zda chápete základní struktury a konstrukce v jazyku Python. Hodnotit se bude nejen funkčnost, ale i časová složitost kódu a míra využití vhodných konstrukcí jazyka.\n",
    "\n",
    "_Odhadovaná doba řešení:_ 10 minut\n",
    "\n",
    "_Odevzdávání:_ tento soubor `test.ipynb` odevzdejte do IS VUT do úterý 20. září 2022\n",
    "\n",
    "_Dotazy:_ fórum ve E-learningu, hodnotit bude V. Mrázek"
   ]
  },
  {
   "cell_type": "code",
   "execution_count": null,
   "metadata": {
    "tags": []
   },
   "outputs": [],
   "source": [
    "# test verze jazyka Python\n",
    "import sys\n",
    "print(sys.version)\n",
    "# mela by byt Python 3.9 nebo vyssi"
   ]
  },
  {
   "cell_type": "code",
   "execution_count": null,
   "metadata": {
    "tags": []
   },
   "outputs": [],
   "source": [
    "# TODO: vypište váš login\n"
   ]
  },
  {
   "cell_type": "markdown",
   "metadata": {},
   "source": [
    "## Část 1: funkce, generátorová notace\n",
    "\n",
    "- Napište funci `f1` s proměnným počtem __pozičně závislých__ argumentů, která vypíše všechny argumenty ve formátu\n",
    "```\n",
    "arg1=hodnota1\n",
    "arg2=hodnota2\n",
    "arg3=hodnota3\n",
    "arg4=hodnota4\n",
    "```"
   ]
  },
  {
   "cell_type": "code",
   "execution_count": null,
   "metadata": {
    "tags": []
   },
   "outputs": [],
   "source": [
    "# Funkce s proměnným počtem argumentů\n",
    "# TODO: napiste funkci f1 \n",
    "f1(\"hodnota1\", \"hodnota2\", \"hodnota3\", \"hodnota4\")"
   ]
  },
  {
   "cell_type": "markdown",
   "metadata": {},
   "source": [
    "Vytvořte slovník (`dictionary`) v proměnné `dict_values` , který bude obsahovat položky \"param1\" s hodnotou \"value1\", \"param2\" s hodnotou \"value2\" až po \"param30\" s hodnotou \"value30\". Zřejmě k tomu využijete výčet `range`, formátovací řetězce a měli byste použít zápis na jeden řádek pomocí tzv _generátorové notace_. Vynechte ale položku 7 (využijte podmínky v generátorové notaci)"
   ]
  },
  {
   "cell_type": "code",
   "execution_count": null,
   "metadata": {},
   "outputs": [],
   "source": [
    "# TODO: vytvořte slovník dict_values (a na konci jej zobrazte)\n",
    "# pozn: stačí dát proměnnou dict_values samostatně na poslední řádek, Jupyter vypisuje výsledek posledního řádku\n",
    "\n",
    "dict_values"
   ]
  },
  {
   "cell_type": "markdown",
   "metadata": {},
   "source": [
    "## Část 2: Výjimky\n",
    "\n",
    "Vytvořte funkci `f2`, která má dva argumenty `p` a `s`. Argument `s` je ve výchozím stavu nastavený na \"A\". Výsledkem funkce je řetězec složený z p-opakování argumentu `s`. V případě, že `p` je záporné, funkce vyvolá výjimku s popisem \"Hodnota p nemuze byt mensi nez 0, bylo zadano -5\" (podle toho, jaké číslo bylo zadáno). Funkce sama o sobě nikdy nesmí nic vypisovat!"
   ]
  },
  {
   "cell_type": "code",
   "execution_count": null,
   "metadata": {
    "tags": []
   },
   "outputs": [],
   "source": [
    "#TODO: vytvorte funkci f2\n",
    "\n",
    "f2(40)"
   ]
  },
  {
   "cell_type": "markdown",
   "metadata": {},
   "source": [
    "Test vyvolání vyjímky - zkusíme nastavit zápornou hodnotu."
   ]
  },
  {
   "cell_type": "code",
   "execution_count": null,
   "metadata": {},
   "outputs": [],
   "source": [
    "# neměnit!\n",
    "f2(p=-40, s=\"AB\")"
   ]
  },
  {
   "cell_type": "markdown",
   "metadata": {},
   "source": [
    "Nyní je vaším úkolem napsat ošetření vyjímky, které při nastavení záporné hodnoty argumenty `p` vypíše chybovou hlášku, kterou převezme z vyjímky (použijte konstrukci `ValueError as e` a vypište i proměnnou `e`)"
   ]
  },
  {
   "cell_type": "code",
   "execution_count": null,
   "metadata": {
    "tags": []
   },
   "outputs": [],
   "source": [
    "#TODO: vytvorte konstrukci zachytavani chyby\n",
    "\n",
    "f2(s=\"ABC\", p=-4)"
   ]
  },
  {
   "cell_type": "markdown",
   "metadata": {},
   "source": [
    "## Část 3: Smyčky, pole atd.\n",
    "\n",
    "Vytvoříme data, se kterými budeme pracovat - bude se jednat o n-tice:\n",
    "`město, typ_hodnoty, teplota`\n",
    "\n",
    "Chování tohoto kódu byste měli rozumět!"
   ]
  },
  {
   "cell_type": "code",
   "execution_count": null,
   "metadata": {},
   "outputs": [],
   "source": [
    "# neměnit!\n",
    "import itertools\n",
    "import random\n",
    "random.seed(42)  # pro deterministické chování\n",
    "data = [(m, h, random.random() * 40 - 10)\n",
    "        for m, h in itertools.product([\"Praha\", \"Brno\", \"Ostrava\"], [\"T1\", \"T2\", \"T3\"])]\n",
    "data\n"
   ]
  },
  {
   "cell_type": "markdown",
   "metadata": {},
   "source": [
    "Projdete data s tím, že vypíšete:\n",
    "```\n",
    "1. Praha T1 = 15.58\n",
    "2. Praha T2 = -9.00\n",
    "3. Praha T3 = 1.00\n",
    "4. Brno T1 = -1.07\n",
    "5. Brno T2 = 19.46\n",
    "6. Brno T3 = 17.07\n",
    "7. Ostrava T1 = 25.69\n",
    "8. Ostrava T2 = -6.52\n",
    "9. Ostrava T3 = 6.88\n",
    "```\n",
    "\n",
    "Použijte jeden cyklus s tím, že budete plnit proměnné `rid`, `mesto`, `typ` a `hodnota` - použijte funkce `enumerate` a rozbalení  (_upacking_). Hodnotu vypisujte na 2 desetinná místa"
   ]
  },
  {
   "cell_type": "code",
   "execution_count": null,
   "metadata": {
    "tags": []
   },
   "outputs": [],
   "source": [
    "#TODO: napiste cyklus"
   ]
  },
  {
   "cell_type": "markdown",
   "metadata": {},
   "source": [
    "A vypište poslední tři prvky pole (stačí vybrat a využít výchozího tisku)"
   ]
  },
  {
   "cell_type": "code",
   "execution_count": null,
   "metadata": {
    "tags": []
   },
   "outputs": [],
   "source": [
    "#TODO: výpis posledních třech prvků pole"
   ]
  },
  {
   "cell_type": "code",
   "execution_count": null,
   "metadata": {},
   "outputs": [],
   "source": [
    "#TODO\n",
    "zpetna_vazba = \"\"\"\n",
    "Chcete nám něco říct? Co od předmětu očekáváte a podobně? Můžete použít toto pole!\n",
    "\"\"\""
   ]
  },
  {
   "cell_type": "markdown",
   "metadata": {},
   "source": [
    "Pozor, nepřidávejte další buňky a neměňte buňky s popisem na kód."
   ]
  }
 ],
 "metadata": {
  "kernelspec": {
   "display_name": "Python 3.10.4 64-bit",
   "language": "python",
   "name": "python3"
  },
  "language_info": {
   "codemirror_mode": {
    "name": "ipython",
    "version": 3
   },
   "file_extension": ".py",
   "mimetype": "text/x-python",
   "name": "python",
   "nbconvert_exporter": "python",
   "pygments_lexer": "ipython3",
   "version": "3.10.4"
  },
  "vscode": {
   "interpreter": {
    "hash": "e7370f93d1d0cde622a1f8e1c04877d8463912d04d973331ad4851f04de6915a"
   }
  }
 },
 "nbformat": 4,
 "nbformat_minor": 2
}
