{
 "cells": [
  {
   "cell_type": "markdown",
   "metadata": {},
   "source": [
    "# Projekt MSP1\n",
    "Cílem tohoto projektu je se seznámit s programovými nástroji využívaných ve statistice a osvojit si základní procedury. Projekt není primárně zaměřen na efektivitu využívání programového vybavení (i když úplně nevhodné konstrukce mohou mít vliv na hodnocení), ale nejvíce nás zajímají vaše statistické závěry a způsob vyhodnocení. Dbejte také na to, že každý graf musí splňovat nějaké podmínky - přehlednost, čitelnost, popisky.\n",
    "\n",
    "V projektu budete analyzovat časy běhu šesti různých konfigurací algoritmů. Ke každé konfiguraci vzniklo celkem 200 nezávislých běhů, jejichž logy máte k dispozici v souboru [logfiles.zip](logfiles.zip).\n",
    "\n",
    "Pokud nemáte rozchozené prostředí pro pro spouštění Jupyter notebooku, můžete využití službu [Google Colab](https://colab.google/). Jakákoliv spolupráce, sdílení řešení a podobně je zakázána!\n",
    "\n",
    "S případnými dotazy se obracejte na Vojtěcha Mrázka (mrazek@fit.vutbr.cz).\n",
    "\n",
    "__Odevzdání:__ tento soubor (není potřeba aby obsahoval výstupy skriptů) do neděle 22. 10. 2023 v IS VUT. Kontrola bude probíhat na Pythonu 3.10.12; neočekává se však to, že byste používali nějaké speciality a nekompatibilní knihovny. V případě nesouladu verzí a podobných problémů budete mít možnost reklamace a prokázání správnosti funkce. Bez vyplnění vašich komentářů a závěrů do označených buněk nebude projekt hodnocen!\n",
    "\n",
    "__Upozornění:__ nepřidávejte do notebooku další buňky, odpovídejte tam, kam se ptáme (textové komentáře do Markdown buněk)\n",
    "\n",
    "__Tip:__ před odevzdáním resetujte celý notebook a zkuste jej spustit od začátku. Zamezíte tak chybám krokování a editací, kdy výsledek z buňky na konci použijete na začátku."
   ]
  },
  {
   "cell_type": "markdown",
   "metadata": {},
   "source": [
    "__OTÁZKA K DOPLNĚNÍ:__\n",
    "\n",
    "Samuel Dobroň (xdobro23/230818)"
   ]
  },
  {
   "cell_type": "markdown",
   "metadata": {},
   "source": [
    "## Načtení potřebných knihoven\n",
    "Načtěte knihovny, které jsou nutné pro zpracování souborů a práci se statistickými funkcemi. Není dovoleno načítat jiné knihovny."
   ]
  },
  {
   "cell_type": "code",
   "execution_count": 1,
   "metadata": {},
   "outputs": [],
   "source": [
    "import numpy as np\n",
    "import pandas as pd\n",
    "import matplotlib.pyplot as plt\n",
    "import scipy.stats as stats\n",
    "import seaborn as sns\n",
    "from zipfile import ZipFile"
   ]
  },
  {
   "cell_type": "markdown",
   "metadata": {},
   "source": [
    "## Načtení dat do DataFrame\n",
    "Ze souboru `logfiles.zip` umístěném ve stejném adresáři načtěte data a vytvořte Pandas DataFrame.\n",
    "\n",
    "Z logu vás budou nejvíce zajímat řádky\n",
    "```\n",
    "Configuration: config6\n",
    "Run: 191\n",
    "Time of run: 53.298725254089774\n",
    "```\n",
    "\n",
    "Můžete využít následující kostru - je vhodné pracovat přímo se ZIP souborem. Jedinou nevýhodou je to, že vám bude vracet _byte_ objekt, který musíte přes funkci `decode` zpracovat."
   ]
  },
  {
   "cell_type": "code",
   "execution_count": 2,
   "metadata": {},
   "outputs": [
    {
     "data": {
      "text/html": [
       "<div>\n",
       "<style scoped>\n",
       "    .dataframe tbody tr th:only-of-type {\n",
       "        vertical-align: middle;\n",
       "    }\n",
       "\n",
       "    .dataframe tbody tr th {\n",
       "        vertical-align: top;\n",
       "    }\n",
       "\n",
       "    .dataframe thead th {\n",
       "        text-align: right;\n",
       "    }\n",
       "</style>\n",
       "<table border=\"1\" class=\"dataframe\">\n",
       "  <thead>\n",
       "    <tr style=\"text-align: right;\">\n",
       "      <th></th>\n",
       "      <th>conf</th>\n",
       "      <th>run</th>\n",
       "      <th>time</th>\n",
       "      <th>status</th>\n",
       "    </tr>\n",
       "  </thead>\n",
       "  <tbody>\n",
       "    <tr>\n",
       "      <th>0</th>\n",
       "      <td>config1</td>\n",
       "      <td>0</td>\n",
       "      <td>104.967142</td>\n",
       "      <td>SUCCESS</td>\n",
       "    </tr>\n",
       "    <tr>\n",
       "      <th>1</th>\n",
       "      <td>config1</td>\n",
       "      <td>1</td>\n",
       "      <td>98.617357</td>\n",
       "      <td>SUCCESS</td>\n",
       "    </tr>\n",
       "    <tr>\n",
       "      <th>2</th>\n",
       "      <td>config1</td>\n",
       "      <td>2</td>\n",
       "      <td>106.476885</td>\n",
       "      <td>SUCCESS</td>\n",
       "    </tr>\n",
       "    <tr>\n",
       "      <th>3</th>\n",
       "      <td>config1</td>\n",
       "      <td>3</td>\n",
       "      <td>115.230299</td>\n",
       "      <td>SUCCESS</td>\n",
       "    </tr>\n",
       "    <tr>\n",
       "      <th>4</th>\n",
       "      <td>config1</td>\n",
       "      <td>4</td>\n",
       "      <td>97.658466</td>\n",
       "      <td>SUCCESS</td>\n",
       "    </tr>\n",
       "    <tr>\n",
       "      <th>...</th>\n",
       "      <td>...</td>\n",
       "      <td>...</td>\n",
       "      <td>...</td>\n",
       "      <td>...</td>\n",
       "    </tr>\n",
       "    <tr>\n",
       "      <th>1195</th>\n",
       "      <td>config6</td>\n",
       "      <td>195</td>\n",
       "      <td>168.809495</td>\n",
       "      <td>SUCCESS</td>\n",
       "    </tr>\n",
       "    <tr>\n",
       "      <th>1196</th>\n",
       "      <td>config6</td>\n",
       "      <td>196</td>\n",
       "      <td>159.607244</td>\n",
       "      <td>SUCCESS</td>\n",
       "    </tr>\n",
       "    <tr>\n",
       "      <th>1197</th>\n",
       "      <td>config6</td>\n",
       "      <td>197</td>\n",
       "      <td>171.049799</td>\n",
       "      <td>SUCCESS</td>\n",
       "    </tr>\n",
       "    <tr>\n",
       "      <th>1198</th>\n",
       "      <td>config6</td>\n",
       "      <td>198</td>\n",
       "      <td>164.478283</td>\n",
       "      <td>SUCCESS</td>\n",
       "    </tr>\n",
       "    <tr>\n",
       "      <th>1199</th>\n",
       "      <td>config6</td>\n",
       "      <td>199</td>\n",
       "      <td>187.282809</td>\n",
       "      <td>SUCCESS</td>\n",
       "    </tr>\n",
       "  </tbody>\n",
       "</table>\n",
       "<p>1200 rows × 4 columns</p>\n",
       "</div>"
      ],
      "text/plain": [
       "         conf  run        time   status\n",
       "0     config1    0  104.967142  SUCCESS\n",
       "1     config1    1   98.617357  SUCCESS\n",
       "2     config1    2  106.476885  SUCCESS\n",
       "3     config1    3  115.230299  SUCCESS\n",
       "4     config1    4   97.658466  SUCCESS\n",
       "...       ...  ...         ...      ...\n",
       "1195  config6  195  168.809495  SUCCESS\n",
       "1196  config6  196  159.607244  SUCCESS\n",
       "1197  config6  197  171.049799  SUCCESS\n",
       "1198  config6  198  164.478283  SUCCESS\n",
       "1199  config6  199  187.282809  SUCCESS\n",
       "\n",
       "[1200 rows x 4 columns]"
      ]
     },
     "execution_count": 2,
     "metadata": {},
     "output_type": "execute_result"
    }
   ],
   "source": [
    "RESULTS_TO_DF_KEYS_MAP = {\n",
    "    \"Configuration\": \"conf\",\n",
    "    \"Run\": \"run\",\n",
    "    \"Time of run\": \"time\",\n",
    "    \"Status\": \"status\"\n",
    "}\n",
    "\n",
    "def load_logfile(f) -> dict:\n",
    "    \"\"\"Load a logfile from a file-like object and return a dict with the data.\"\"\"\n",
    "    data = {\n",
    "        \"conf\": None,\n",
    "        \"run\": None,\n",
    "        \"time\": np.nan\n",
    "    }\n",
    "\n",
    "    for raw_line in f:\n",
    "        line = raw_line.decode(\"utf-8\")\n",
    "        if not (split := line.split(\":\")) or split[0] not in RESULTS_TO_DF_KEYS_MAP:\n",
    "            continue\n",
    "        \n",
    "        key = RESULTS_TO_DF_KEYS_MAP[split[0]]\n",
    "        value = split[1].strip()\n",
    "        if key == \"time\":\n",
    "            value = np.double(value)\n",
    "        \n",
    "        data[key] = value\n",
    "        \n",
    "    return data\n",
    "\n",
    "data = []\n",
    "with ZipFile(\"logfiles.zip\") as zf:\n",
    "    for filename in zf.namelist():\n",
    "        with zf.open(filename, \"r\") as f:\n",
    "            data.append(load_logfile(f))\n",
    "df = pd.DataFrame(data)\n",
    "df"
   ]
  },
  {
   "cell_type": "markdown",
   "metadata": {},
   "source": [
    "## Analýza a čištění dat\n",
    "Vhodným způsobem pro všechny konfigurace analyzujte časy běhů a pokud tam jsou, identifikujte hodnoty, které jsou chybné. "
   ]
  },
  {
   "cell_type": "code",
   "execution_count": 3,
   "metadata": {},
   "outputs": [
    {
     "data": {
      "text/html": [
       "<div>\n",
       "<style scoped>\n",
       "    .dataframe tbody tr th:only-of-type {\n",
       "        vertical-align: middle;\n",
       "    }\n",
       "\n",
       "    .dataframe tbody tr th {\n",
       "        vertical-align: top;\n",
       "    }\n",
       "\n",
       "    .dataframe thead th {\n",
       "        text-align: right;\n",
       "    }\n",
       "</style>\n",
       "<table border=\"1\" class=\"dataframe\">\n",
       "  <thead>\n",
       "    <tr style=\"text-align: right;\">\n",
       "      <th></th>\n",
       "      <th>conf</th>\n",
       "      <th>run</th>\n",
       "      <th>time</th>\n",
       "      <th>status</th>\n",
       "    </tr>\n",
       "  </thead>\n",
       "  <tbody>\n",
       "    <tr>\n",
       "      <th>9</th>\n",
       "      <td>config1</td>\n",
       "      <td>9</td>\n",
       "      <td>3600.00</td>\n",
       "      <td>TIME LIMIT</td>\n",
       "    </tr>\n",
       "    <tr>\n",
       "      <th>62</th>\n",
       "      <td>config1</td>\n",
       "      <td>62</td>\n",
       "      <td>0.01</td>\n",
       "      <td>SEGFAULT</td>\n",
       "    </tr>\n",
       "    <tr>\n",
       "      <th>134</th>\n",
       "      <td>config1</td>\n",
       "      <td>134</td>\n",
       "      <td>3600.00</td>\n",
       "      <td>TIME LIMIT</td>\n",
       "    </tr>\n",
       "    <tr>\n",
       "      <th>145</th>\n",
       "      <td>config1</td>\n",
       "      <td>145</td>\n",
       "      <td>0.01</td>\n",
       "      <td>SEGFAULT</td>\n",
       "    </tr>\n",
       "    <tr>\n",
       "      <th>148</th>\n",
       "      <td>config1</td>\n",
       "      <td>148</td>\n",
       "      <td>3600.00</td>\n",
       "      <td>TIME LIMIT</td>\n",
       "    </tr>\n",
       "    <tr>\n",
       "      <th>184</th>\n",
       "      <td>config1</td>\n",
       "      <td>184</td>\n",
       "      <td>0.01</td>\n",
       "      <td>SEGFAULT</td>\n",
       "    </tr>\n",
       "    <tr>\n",
       "      <th>197</th>\n",
       "      <td>config1</td>\n",
       "      <td>197</td>\n",
       "      <td>0.01</td>\n",
       "      <td>SEGFAULT</td>\n",
       "    </tr>\n",
       "    <tr>\n",
       "      <th>213</th>\n",
       "      <td>config2</td>\n",
       "      <td>13</td>\n",
       "      <td>3600.00</td>\n",
       "      <td>TIME LIMIT</td>\n",
       "    </tr>\n",
       "    <tr>\n",
       "      <th>240</th>\n",
       "      <td>config2</td>\n",
       "      <td>40</td>\n",
       "      <td>3600.00</td>\n",
       "      <td>TIME LIMIT</td>\n",
       "    </tr>\n",
       "    <tr>\n",
       "      <th>342</th>\n",
       "      <td>config2</td>\n",
       "      <td>142</td>\n",
       "      <td>0.01</td>\n",
       "      <td>SEGFAULT</td>\n",
       "    </tr>\n",
       "    <tr>\n",
       "      <th>441</th>\n",
       "      <td>config3</td>\n",
       "      <td>41</td>\n",
       "      <td>0.01</td>\n",
       "      <td>SEGFAULT</td>\n",
       "    </tr>\n",
       "    <tr>\n",
       "      <th>513</th>\n",
       "      <td>config3</td>\n",
       "      <td>113</td>\n",
       "      <td>0.01</td>\n",
       "      <td>SEGFAULT</td>\n",
       "    </tr>\n",
       "    <tr>\n",
       "      <th>566</th>\n",
       "      <td>config3</td>\n",
       "      <td>166</td>\n",
       "      <td>3600.00</td>\n",
       "      <td>TIME LIMIT</td>\n",
       "    </tr>\n",
       "    <tr>\n",
       "      <th>584</th>\n",
       "      <td>config3</td>\n",
       "      <td>184</td>\n",
       "      <td>0.01</td>\n",
       "      <td>SEGFAULT</td>\n",
       "    </tr>\n",
       "    <tr>\n",
       "      <th>587</th>\n",
       "      <td>config3</td>\n",
       "      <td>187</td>\n",
       "      <td>0.01</td>\n",
       "      <td>SEGFAULT</td>\n",
       "    </tr>\n",
       "    <tr>\n",
       "      <th>695</th>\n",
       "      <td>config4</td>\n",
       "      <td>95</td>\n",
       "      <td>3600.00</td>\n",
       "      <td>TIME LIMIT</td>\n",
       "    </tr>\n",
       "    <tr>\n",
       "      <th>903</th>\n",
       "      <td>config5</td>\n",
       "      <td>103</td>\n",
       "      <td>3600.00</td>\n",
       "      <td>TIME LIMIT</td>\n",
       "    </tr>\n",
       "    <tr>\n",
       "      <th>918</th>\n",
       "      <td>config5</td>\n",
       "      <td>118</td>\n",
       "      <td>0.01</td>\n",
       "      <td>SEGFAULT</td>\n",
       "    </tr>\n",
       "    <tr>\n",
       "      <th>980</th>\n",
       "      <td>config5</td>\n",
       "      <td>180</td>\n",
       "      <td>3600.00</td>\n",
       "      <td>TIME LIMIT</td>\n",
       "    </tr>\n",
       "    <tr>\n",
       "      <th>1056</th>\n",
       "      <td>config6</td>\n",
       "      <td>56</td>\n",
       "      <td>0.01</td>\n",
       "      <td>SEGFAULT</td>\n",
       "    </tr>\n",
       "    <tr>\n",
       "      <th>1060</th>\n",
       "      <td>config6</td>\n",
       "      <td>60</td>\n",
       "      <td>0.01</td>\n",
       "      <td>SEGFAULT</td>\n",
       "    </tr>\n",
       "    <tr>\n",
       "      <th>1076</th>\n",
       "      <td>config6</td>\n",
       "      <td>76</td>\n",
       "      <td>3600.00</td>\n",
       "      <td>TIME LIMIT</td>\n",
       "    </tr>\n",
       "    <tr>\n",
       "      <th>1110</th>\n",
       "      <td>config6</td>\n",
       "      <td>110</td>\n",
       "      <td>3600.00</td>\n",
       "      <td>TIME LIMIT</td>\n",
       "    </tr>\n",
       "  </tbody>\n",
       "</table>\n",
       "</div>"
      ],
      "text/plain": [
       "         conf  run     time      status\n",
       "9     config1    9  3600.00  TIME LIMIT\n",
       "62    config1   62     0.01    SEGFAULT\n",
       "134   config1  134  3600.00  TIME LIMIT\n",
       "145   config1  145     0.01    SEGFAULT\n",
       "148   config1  148  3600.00  TIME LIMIT\n",
       "184   config1  184     0.01    SEGFAULT\n",
       "197   config1  197     0.01    SEGFAULT\n",
       "213   config2   13  3600.00  TIME LIMIT\n",
       "240   config2   40  3600.00  TIME LIMIT\n",
       "342   config2  142     0.01    SEGFAULT\n",
       "441   config3   41     0.01    SEGFAULT\n",
       "513   config3  113     0.01    SEGFAULT\n",
       "566   config3  166  3600.00  TIME LIMIT\n",
       "584   config3  184     0.01    SEGFAULT\n",
       "587   config3  187     0.01    SEGFAULT\n",
       "695   config4   95  3600.00  TIME LIMIT\n",
       "903   config5  103  3600.00  TIME LIMIT\n",
       "918   config5  118     0.01    SEGFAULT\n",
       "980   config5  180  3600.00  TIME LIMIT\n",
       "1056  config6   56     0.01    SEGFAULT\n",
       "1060  config6   60     0.01    SEGFAULT\n",
       "1076  config6   76  3600.00  TIME LIMIT\n",
       "1110  config6  110  3600.00  TIME LIMIT"
      ]
     },
     "execution_count": 3,
     "metadata": {},
     "output_type": "execute_result"
    },
    {
     "data": {
      "image/png": "[encoded data removed]",
      "text/plain": [
       "<Figure size 640x480 with 1 Axes>"
      ]
     },
     "metadata": {},
     "output_type": "display_data"
    },
    {
     "data": {
      "image/png": "[encoded data removed]",
      "text/plain": [
       "<Figure size 640x480 with 1 Axes>"
      ]
     },
     "metadata": {},
     "output_type": "display_data"
    }
   ],
   "source": [
    "def box_plt(data: pd.DataFrame, **kwargs):\n",
    "    box = data.boxplot(\"time\", by=\"conf\", **kwargs)\n",
    "    box.set_title(\"Configurations run time overview\")\n",
    "    box.get_figure().suptitle(\"\")  # remove \"boxplot grouped ...\" source: https://stackoverflow.com/a/23508225\n",
    "    box.set_xlabel(\"Configurations\")\n",
    "    box.set_ylabel(\"Time [s]\")\n",
    "\n",
    "    return box\n",
    "\n",
    "box_plt(df)\n",
    "box = box_plt(df)\n",
    "box.set_ylim(-10, 500)\n",
    "\n",
    "df[(df[\"time\"] == df[\"time\"].max()) | (df[\"time\"] == df[\"time\"].min())]"
   ]
  },
  {
   "cell_type": "markdown",
   "metadata": {},
   "source": [
    "__OTÁZKA K DOPLNĚNÍ:__\n",
    "\n",
    "> _Objevily se nějaké chybné hodnoty? Proč tam jsou s ohledem na to, že se jedná o běhy algoritmů?_\n",
    "\n",
    "Áno, niektore merania majú v stĺpci `Time of run` extrémne hodnoty - `0.01` a `3600`. Pri výpise riadkov s týmito časmi môžme vidieť, že dôvod výskytu týchto extrémnych hodnôt nie je samotný algoritmus ale chyba počas jeho behu. Tieto hodnoty teda nepredstavujú reálny čas behu konfigurácie algoritmu ale slúžia na signalizáciu nevalidnych výsledkov.\n",
    "\n",
    "* `SEGFAULT` - chyba nesprávneho prístupu do pamäte, keďže ale väčšina dat na túto chybu nenarazila, môžme predpokladať, že algoritmus obsahuje nejakú chybu v implementácii na ktorú narazí len niekedy. Vzhľadom na to, že budeme hodnotiť efektivitu algoritmu a nie jeho funkčnosť, môžme tieto hodnoty **ignorovať**.\n",
    "* `TIME LIMIT` - chyba hovorí, že algoritmus nestihol dobehnúť do `3600` sekund. Na základe dostupných dat nevieme určiť, či sa jedná o chybu v implementácii alebo tu narážame na problem veľkého vstupu, to nakoniec ani nepotrebujeme vedieť. Keďže ale dĺžka behu väčšiny ostatných meraní je o viac ako rád nižšia, môžme predpokladať, že sa nejedná o bežnú situáciu a tieto hodnoty **ignorujeme**.\n",
    "\n",
    "Takmer všetky konfigurácie obsahujú aj hodnoty mimo `3σ` pravidla, no vzhľadom na smerodajnú odchylku môžme predpokladať, že tieto dáta sú valídne a **ponecháme** ich."
   ]
  },
  {
   "cell_type": "markdown",
   "metadata": {},
   "source": [
    "Vyčistěte dataframe `df` tak, aby tam tyto hodnoty nebyly a ukažte znovu analýzu toho, že čištění dat bylo úspěšné. Odtud dále pracujte s vyčištěným datasetem."
   ]
  },
  {
   "cell_type": "code",
   "execution_count": 4,
   "metadata": {},
   "outputs": [
    {
     "data": {
      "text/html": [
       "<div>\n",
       "<style scoped>\n",
       "    .dataframe tbody tr th:only-of-type {\n",
       "        vertical-align: middle;\n",
       "    }\n",
       "\n",
       "    .dataframe tbody tr th {\n",
       "        vertical-align: top;\n",
       "    }\n",
       "\n",
       "    .dataframe thead th {\n",
       "        text-align: right;\n",
       "    }\n",
       "</style>\n",
       "<table border=\"1\" class=\"dataframe\">\n",
       "  <thead>\n",
       "    <tr style=\"text-align: right;\">\n",
       "      <th></th>\n",
       "      <th>time</th>\n",
       "    </tr>\n",
       "  </thead>\n",
       "  <tbody>\n",
       "    <tr>\n",
       "      <th>count</th>\n",
       "      <td>1177.000000</td>\n",
       "    </tr>\n",
       "    <tr>\n",
       "      <th>mean</th>\n",
       "      <td>141.199038</td>\n",
       "    </tr>\n",
       "    <tr>\n",
       "      <th>std</th>\n",
       "      <td>36.834278</td>\n",
       "    </tr>\n",
       "    <tr>\n",
       "      <th>min</th>\n",
       "      <td>29.093401</td>\n",
       "    </tr>\n",
       "    <tr>\n",
       "      <th>25%</th>\n",
       "      <td>110.553018</td>\n",
       "    </tr>\n",
       "    <tr>\n",
       "      <th>50%</th>\n",
       "      <td>141.590868</td>\n",
       "    </tr>\n",
       "    <tr>\n",
       "      <th>75%</th>\n",
       "      <td>166.303874</td>\n",
       "    </tr>\n",
       "    <tr>\n",
       "      <th>max</th>\n",
       "      <td>255.807973</td>\n",
       "    </tr>\n",
       "  </tbody>\n",
       "</table>\n",
       "</div>"
      ],
      "text/plain": [
       "              time\n",
       "count  1177.000000\n",
       "mean    141.199038\n",
       "std      36.834278\n",
       "min      29.093401\n",
       "25%     110.553018\n",
       "50%     141.590868\n",
       "75%     166.303874\n",
       "max     255.807973"
      ]
     },
     "execution_count": 4,
     "metadata": {},
     "output_type": "execute_result"
    }
   ],
   "source": [
    "clean = df[(df[\"time\"] != 3600) & (df[\"time\"] != 0.01)]\n",
    "clean.describe()"
   ]
  },
  {
   "cell_type": "markdown",
   "metadata": {},
   "source": [
    "## Deskriptivní popis hodnot\n",
    "Vypište pro jednotlivé konfigurace základní deskriptivní parametry času pro jednotlivé konfigurace.  \n",
    "\n",
    "__TIP__ pokud výsledky uložíte jako Pandas DataFrame, zobrazí se v tabulce."
   ]
  },
  {
   "cell_type": "code",
   "execution_count": 5,
   "metadata": {},
   "outputs": [
    {
     "data": {
      "text/html": [
       "<div>\n",
       "<style scoped>\n",
       "    .dataframe tbody tr th:only-of-type {\n",
       "        vertical-align: middle;\n",
       "    }\n",
       "\n",
       "    .dataframe tbody tr th {\n",
       "        vertical-align: top;\n",
       "    }\n",
       "\n",
       "    .dataframe thead tr th {\n",
       "        text-align: left;\n",
       "    }\n",
       "\n",
       "    .dataframe thead tr:last-of-type th {\n",
       "        text-align: right;\n",
       "    }\n",
       "</style>\n",
       "<table border=\"1\" class=\"dataframe\">\n",
       "  <thead>\n",
       "    <tr>\n",
       "      <th></th>\n",
       "      <th colspan=\"8\" halign=\"left\">time</th>\n",
       "    </tr>\n",
       "    <tr>\n",
       "      <th></th>\n",
       "      <th>count</th>\n",
       "      <th>mean</th>\n",
       "      <th>std</th>\n",
       "      <th>min</th>\n",
       "      <th>25%</th>\n",
       "      <th>50%</th>\n",
       "      <th>75%</th>\n",
       "      <th>max</th>\n",
       "    </tr>\n",
       "    <tr>\n",
       "      <th>conf</th>\n",
       "      <th></th>\n",
       "      <th></th>\n",
       "      <th></th>\n",
       "      <th></th>\n",
       "      <th></th>\n",
       "      <th></th>\n",
       "      <th></th>\n",
       "      <th></th>\n",
       "    </tr>\n",
       "  </thead>\n",
       "  <tbody>\n",
       "    <tr>\n",
       "      <th>config1</th>\n",
       "      <td>193.0</td>\n",
       "      <td>99.590413</td>\n",
       "      <td>9.386788</td>\n",
       "      <td>73.802549</td>\n",
       "      <td>92.979469</td>\n",
       "      <td>99.865028</td>\n",
       "      <td>104.824724</td>\n",
       "      <td>127.201692</td>\n",
       "    </tr>\n",
       "    <tr>\n",
       "      <th>config2</th>\n",
       "      <td>197.0</td>\n",
       "      <td>151.732975</td>\n",
       "      <td>19.833198</td>\n",
       "      <td>85.174653</td>\n",
       "      <td>137.995662</td>\n",
       "      <td>151.516091</td>\n",
       "      <td>163.802880</td>\n",
       "      <td>227.054630</td>\n",
       "    </tr>\n",
       "    <tr>\n",
       "      <th>config3</th>\n",
       "      <td>195.0</td>\n",
       "      <td>138.616959</td>\n",
       "      <td>19.867428</td>\n",
       "      <td>90.567110</td>\n",
       "      <td>124.803901</td>\n",
       "      <td>138.678404</td>\n",
       "      <td>151.536291</td>\n",
       "      <td>201.577616</td>\n",
       "    </tr>\n",
       "    <tr>\n",
       "      <th>config4</th>\n",
       "      <td>199.0</td>\n",
       "      <td>110.317016</td>\n",
       "      <td>30.656816</td>\n",
       "      <td>29.093401</td>\n",
       "      <td>88.742158</td>\n",
       "      <td>110.782732</td>\n",
       "      <td>130.665606</td>\n",
       "      <td>188.971462</td>\n",
       "    </tr>\n",
       "    <tr>\n",
       "      <th>config5</th>\n",
       "      <td>197.0</td>\n",
       "      <td>183.659767</td>\n",
       "      <td>28.729836</td>\n",
       "      <td>107.283620</td>\n",
       "      <td>164.070091</td>\n",
       "      <td>183.843132</td>\n",
       "      <td>201.250693</td>\n",
       "      <td>255.807973</td>\n",
       "    </tr>\n",
       "    <tr>\n",
       "      <th>config6</th>\n",
       "      <td>196.0</td>\n",
       "      <td>162.829359</td>\n",
       "      <td>20.648193</td>\n",
       "      <td>102.074892</td>\n",
       "      <td>149.917475</td>\n",
       "      <td>163.990098</td>\n",
       "      <td>177.730865</td>\n",
       "      <td>208.795048</td>\n",
       "    </tr>\n",
       "  </tbody>\n",
       "</table>\n",
       "</div>"
      ],
      "text/plain": [
       "          time                                                             \\\n",
       "         count        mean        std         min         25%         50%   \n",
       "conf                                                                        \n",
       "config1  193.0   99.590413   9.386788   73.802549   92.979469   99.865028   \n",
       "config2  197.0  151.732975  19.833198   85.174653  137.995662  151.516091   \n",
       "config3  195.0  138.616959  19.867428   90.567110  124.803901  138.678404   \n",
       "config4  199.0  110.317016  30.656816   29.093401   88.742158  110.782732   \n",
       "config5  197.0  183.659767  28.729836  107.283620  164.070091  183.843132   \n",
       "config6  196.0  162.829359  20.648193  102.074892  149.917475  163.990098   \n",
       "\n",
       "                                 \n",
       "                75%         max  \n",
       "conf                             \n",
       "config1  104.824724  127.201692  \n",
       "config2  163.802880  227.054630  \n",
       "config3  151.536291  201.577616  \n",
       "config4  130.665606  188.971462  \n",
       "config5  201.250693  255.807973  \n",
       "config6  177.730865  208.795048  "
      ]
     },
     "execution_count": 5,
     "metadata": {},
     "output_type": "execute_result"
    }
   ],
   "source": [
    "clean.groupby(\"conf\").describe()"
   ]
  },
  {
   "cell_type": "markdown",
   "metadata": {},
   "source": [
    "__OTÁZKA K DOPLNĚNÍ:__\n",
    "\n",
    "> _Okomentujte, co všechno můžeme z parametrů vyčíst._\n",
    "\n",
    "Ako prvé si môžme všimnúť najdôležitejší fakt (bez ktorého by porovnanie veľký zmysel nedávalo) a to, že počet jednotlivých meraní, je približne rovnaký. \n",
    "\n",
    "\n",
    "Prvým faktom, ktorý môžme vyčítať je, že medián konfigurácie `1` je najnižší. To znamená, že pre priemernú úlohu riešenu algoritmom bude najrýchlejší. Taktiež môžme hovoriť aj o jeho stabilite - štandardná odchylka `~9.4` je vzhľadom na ostatné merania relatívne malá a dá sa teda očakávať, že dĺžka behu tejto konfigurácie nebude až tak kolísať.\n",
    "\n",
    "Ďalším zaujimavým faktom ale je, že konfigurácia `4` má _zásadne_ kratšiu minimálnu dobu behu ako aj `25%` najrýchlejších behov je s touto konfiguráciou najrýchlejších. Ak predpokladáme, že týchto `25%` meraní bolo z kategoricky rovnakej skupiny úloh, môžme túto konfiguráciu vyhlásiť za najrýchlejšiu pre daný typ úlohy (napríklad ak týchto `25%` meraní obsahuje malé úlohy).\n",
    "\n",
    "\n",
    "\n",
    "---\n",
    "Malou úlohou je myslená malá veľkosť vstupných dat."
   ]
  },
  {
   "cell_type": "markdown",
   "metadata": {},
   "source": [
    "## Vizualizace\n",
    "Vizualizujte časy běhů algoritmů v jednom kompaktním grafu tak, aby byl zřejmý i rozptyl hodnot. Zvolte vhodný graf, který pak níže komentujte."
   ]
  },
  {
   "cell_type": "code",
   "execution_count": 6,
   "metadata": {},
   "outputs": [
    {
     "data": {
      "text/plain": [
       "(-10.0, 500.0)"
      ]
     },
     "execution_count": 6,
     "metadata": {},
     "output_type": "execute_result"
    },
    {
     "data": {
      "image/png": "[encoded data removed]",
      "text/plain": [
       "<Figure size 640x480 with 1 Axes>"
      ]
     },
     "metadata": {},
     "output_type": "display_data"
    }
   ],
   "source": [
    "box = box_plt(clean)\n",
    "box.set_ylim(-10, 500)"
   ]
  },
  {
   "cell_type": "markdown",
   "metadata": {},
   "source": [
    "__OTÁZKA K DOPLNĚNÍ:__\n",
    "\n",
    "> _Okomentujte  výsledky z tabulky._\n",
    "\n",
    "Z grafu vyššie, tak isto ako aj z tabuľky s deskriptívnym popisom hodnôt vyplýva, že `config1` a `config4` majú najnižšie stredné hodnoty doby behu. Čo znamená, že priemerne sú najrýchlejšie.\n",
    "\n",
    "Keďže ale `config4` má vysokú varianciu, nedá sa tak jednoducho určiť, ktorá konfigurácia je obecne rýchlejšia."
   ]
  },
  {
   "cell_type": "markdown",
   "metadata": {},
   "source": [
    "## Určení efektivity konfigurací algoritmů\n",
    "Nás ale zajímá, jaká konfigurace je nejrychlejší. Z výše vykresleného grafu můžeme vyloučit některé konfigurace. Existuje tam však minimálně jedna dvojice, u které nedokážeme jednoznačně určit, která je lepší - pokud nebudeme porovnávat pouze extrémní hodnoty, které mohou být dané náhodou, ale celkově. Proto proveďte vhodný test významnosti - v následující části diskutujte zejména rozložení dat (i s odkazem na předchozí buňky, variabilitu vs polohu a podobně). Je nutné každý logický krok a výběry statistických funkcí komentovat. Můžete i přidat další buňky.\n",
    "\n",
    "Vužijte vhodnou funkci z knihovny `scipy.stats` a funkci poté __implementujte sami__ na základě základních matematických funkcí knihovny `numpy` případně i funkcí pro výpočet studentova rozložení v [scipy.stats](https://docs.scipy.org/doc/scipy/reference/generated/scipy.stats.t.html). Při vlastní implementaci není nutné se primárně soustředit na efektivitu výpočtu (není potřeba využít všechny funkce numpy, můžete použít normální cykly a podobně - v hodnocení však bude zahrnuta přehlednost a neměly by se objevit jasné chyby, jako je zvýšení třídy složitosti a podobně)."
   ]
  },
  {
   "cell_type": "markdown",
   "metadata": {},
   "source": [
    "__OTÁZKA K DOPLNĚNÍ:__\n",
    "\n",
    "> _Jaká data budete zkoumat?_\n",
    "\n",
    "\n",
    "Keďže budeme analyzovať efektivitu konfigurácie algoritmu, bude nás zaujímať doba behu, teda čas, čo je spojitá veličina. Takže budeme analyzovať **spojité dáta**."
   ]
  },
  {
   "cell_type": "markdown",
   "metadata": {},
   "source": [
    "> _Jaké mají rozložení a parametry (např. varianci) a jaký test použijete?_"
   ]
  },
  {
   "cell_type": "code",
   "execution_count": 7,
   "metadata": {},
   "outputs": [
    {
     "data": {
      "image/png": "[encoded data removed]",
      "text/plain": [
       "<Figure size 1200x400 with 2 Axes>"
      ]
     },
     "metadata": {},
     "output_type": "display_data"
    }
   ],
   "source": [
    "filtered = clean[(clean[\"conf\"] == \"config1\") | (clean[\"conf\"] == \"config4\")]\n",
    "\n",
    "c1, c4 = filtered.hist(\"time\", by=\"conf\", bins=np.linspace(0, 200, 70), figsize=(12, 4), sharey=True)\n",
    "\n",
    "c1.set_xlim(0, filtered[\"time\"].max())\n",
    "c4.set_xlim(0, filtered[\"time\"].max())\n",
    "\n",
    "c1.set_ylabel(\"# of runs\")\n",
    "c1.set_xlabel(\"time\")\n",
    "c4.set_xlabel(\"time\")\n",
    "\n",
    "c1.figure.tight_layout()"
   ]
  },
  {
   "cell_type": "markdown",
   "metadata": {
    "scrolled": true
   },
   "source": [
    "Ide o normálne rozloženie s nízkou resp. vysokou varianciou."
   ]
  },
  {
   "cell_type": "markdown",
   "metadata": {},
   "source": [
    "> parametry (např. varianci)\n",
    "\n",
    "Normálne rozloženie má 2 parametre a to \n",
    "* strednú hodnotu `mean`\n",
    "* štandardnú odchylku `std`"
   ]
  },
  {
   "cell_type": "code",
   "execution_count": 8,
   "metadata": {},
   "outputs": [
    {
     "data": {
      "text/html": [
       "<div>\n",
       "<style scoped>\n",
       "    .dataframe tbody tr th:only-of-type {\n",
       "        vertical-align: middle;\n",
       "    }\n",
       "\n",
       "    .dataframe tbody tr th {\n",
       "        vertical-align: top;\n",
       "    }\n",
       "\n",
       "    .dataframe thead tr th {\n",
       "        text-align: left;\n",
       "    }\n",
       "\n",
       "    .dataframe thead tr:last-of-type th {\n",
       "        text-align: right;\n",
       "    }\n",
       "</style>\n",
       "<table border=\"1\" class=\"dataframe\">\n",
       "  <thead>\n",
       "    <tr>\n",
       "      <th></th>\n",
       "      <th colspan=\"2\" halign=\"left\">time</th>\n",
       "    </tr>\n",
       "    <tr>\n",
       "      <th></th>\n",
       "      <th>mean</th>\n",
       "      <th>std</th>\n",
       "    </tr>\n",
       "    <tr>\n",
       "      <th>conf</th>\n",
       "      <th></th>\n",
       "      <th></th>\n",
       "    </tr>\n",
       "  </thead>\n",
       "  <tbody>\n",
       "    <tr>\n",
       "      <th>config1</th>\n",
       "      <td>99.590413</td>\n",
       "      <td>9.386788</td>\n",
       "    </tr>\n",
       "    <tr>\n",
       "      <th>config4</th>\n",
       "      <td>110.317016</td>\n",
       "      <td>30.656816</td>\n",
       "    </tr>\n",
       "  </tbody>\n",
       "</table>\n",
       "</div>"
      ],
      "text/plain": [
       "               time           \n",
       "               mean        std\n",
       "conf                          \n",
       "config1   99.590413   9.386788\n",
       "config4  110.317016  30.656816"
      ]
     },
     "execution_count": 8,
     "metadata": {},
     "output_type": "execute_result"
    }
   ],
   "source": [
    "filtered.groupby(\"conf\").describe().loc[:,(slice(None), [\"mean\", \"std\"])]  # multi-index indexing took from https://stackoverflow.com/a/64901648"
   ]
  },
  {
   "cell_type": "markdown",
   "metadata": {},
   "source": [
    "Ďalej môžme určiť aj koeficienty skosenia:"
   ]
  },
  {
   "cell_type": "code",
   "execution_count": 9,
   "metadata": {},
   "outputs": [
    {
     "name": "stdout",
     "output_type": "stream",
     "text": [
      "config1 0.14170059122709824\n",
      "config4 0.0492050464937537\n"
     ]
    }
   ],
   "source": [
    "print(\"config1\", filtered[filtered[\"conf\"] == \"config1\"][\"time\"].skew())\n",
    "print(\"config4\", filtered[filtered[\"conf\"] == \"config4\"][\"time\"].skew())"
   ]
  },
  {
   "cell_type": "markdown",
   "metadata": {},
   "source": [
    "Tie sú taktiež relatívne malé, čo len potvrdzuje, že ide o normálne rozloženie."
   ]
  },
  {
   "cell_type": "markdown",
   "metadata": {},
   "source": [
    "> _Jak se liší variabilita a poloha vybraných konfigurací?_"
   ]
  },
  {
   "cell_type": "code",
   "execution_count": 10,
   "metadata": {},
   "outputs": [
    {
     "name": "stdout",
     "output_type": "stream",
     "text": [
      "88.11179094342776\n",
      "939.840347192918\n"
     ]
    }
   ],
   "source": [
    "print(filtered[filtered[\"conf\"] == \"config1\"][\"time\"].var())\n",
    "print(filtered[filtered[\"conf\"] == \"config4\"][\"time\"].var())"
   ]
  },
  {
   "cell_type": "markdown",
   "metadata": {},
   "source": [
    "Variabilita konfigurácií sa významne **líši**."
   ]
  },
  {
   "cell_type": "markdown",
   "metadata": {},
   "source": [
    "Keďže ide o normálne rozdelenie nezávyslých meraní, použijeme nepárový **Welchov t-test**."
   ]
  },
  {
   "cell_type": "markdown",
   "metadata": {},
   "source": [
    "> _Jaká je nulová hypotéza?_\n",
    "\n",
    "\n",
    "H0:\n",
    "\n",
    "  Stredné hodnoty behu konfigurácie 1 a 4 sa rovnajú.\n",
    "\n",
    "\n",
    "H1:   \n",
    "\n",
    "Stredná hodnota behu konfigurácie 1 je menšia než stredná hodnota behu konfigurácie 4 (1 je rýchlejšia ako 4)."
   ]
  },
  {
   "cell_type": "code",
   "execution_count": 11,
   "metadata": {},
   "outputs": [],
   "source": [
    "res = stats.ttest_ind(\n",
    "    filtered[filtered[\"conf\"] == \"config1\"][\"time\"], \n",
    "    filtered[filtered[\"conf\"] == \"config4\"][\"time\"], \n",
    "    equal_var=False, \n",
    "    alternative='less'  # doba behu \n",
    ")"
   ]
  },
  {
   "cell_type": "markdown",
   "metadata": {},
   "source": [
    "__OTÁZKA K DOPLNĚNÍ:__\n",
    "\n",
    "> _Jaký je závěr statistického testu?_"
   ]
  },
  {
   "cell_type": "code",
   "execution_count": 12,
   "metadata": {},
   "outputs": [
    {
     "name": "stdout",
     "output_type": "stream",
     "text": [
      "Zamietame H0, platí H1 -4.713292868840319 2.0843410569946737e-06\n"
     ]
    }
   ],
   "source": [
    "alpha = 0.05\n",
    "\n",
    "if res.pvalue < alpha:\n",
    "    print(\"Zamietame H0, platí H1\", res.statistic, res.pvalue)\n",
    "else:\n",
    "    print(\"Nezamietame H0, nemôžeme teda potvrdiť H1.\")\n"
   ]
  },
  {
   "cell_type": "markdown",
   "metadata": {},
   "source": [
    "### Vlastná implementácia Welchovho t-testu"
   ]
  },
  {
   "cell_type": "code",
   "execution_count": 13,
   "metadata": {},
   "outputs": [],
   "source": [
    "def welch_ttest(measurement1: pd.DataFrame, measurement2: pd.DataFrame):\n",
    "    # Source https://real-statistics.com/students-t-distribution/two-independent-samples-t-test/two-sample-t-test-uequal-variances/\n",
    "    m1_var = np.square(measurement1.std()) / measurement1.count()\n",
    "    m2_var = np.square(measurement2.std()) / measurement2.count()\n",
    "    \n",
    "    variances_sum = m1_var + m2_var\n",
    "    \n",
    "    t = (measurement1.mean() - measurement2.mean()) / np.sqrt(variances_sum)\n",
    "    d_o_freedom = np.square(variances_sum)  / (np.square(m1_var) / (measurement1.count() - 1) + np.square(m2_var) / (measurement2.count() - 1))\n",
    "\n",
    "    return t, stats.t.cdf(t, d_o_freedom)"
   ]
  },
  {
   "cell_type": "code",
   "execution_count": 14,
   "metadata": {},
   "outputs": [
    {
     "data": {
      "text/plain": [
       "(-4.713292868840319, 2.0843410569946818e-06)"
      ]
     },
     "execution_count": 14,
     "metadata": {},
     "output_type": "execute_result"
    }
   ],
   "source": [
    "t, pval = welch_ttest(filtered[filtered[\"conf\"] == \"config1\"][\"time\"], filtered[filtered[\"conf\"] == \"config4\"][\"time\"])\n",
    "t, pval"
   ]
  },
  {
   "cell_type": "code",
   "execution_count": 15,
   "metadata": {},
   "outputs": [],
   "source": [
    "# Float comparison:\n",
    "assert abs(t - res.statistic) <= 0.001\n",
    "assert abs(pval - res.pvalue) <= 0.001"
   ]
  },
  {
   "cell_type": "markdown",
   "metadata": {},
   "source": [
    "Vlastná a referenčná implementácia Welchovho t-testu vracia rovnaké výsledky (odhliadnúc od chyby spôsobenej počítaním s floating-point číslami)."
   ]
  }
 ],
 "metadata": {
  "kernelspec": {
   "display_name": "Python 3 (ipykernel)",
   "language": "python",
   "name": "python3"
  },
  "language_info": {
   "codemirror_mode": {
    "name": "ipython",
    "version": 3
   },
   "file_extension": ".py",
   "mimetype": "text/x-python",
   "name": "python",
   "nbconvert_exporter": "python",
   "pygments_lexer": "ipython3",
   "version": "3.11.5"
  }
 },
 "nbformat": 4,
 "nbformat_minor": 4
}
